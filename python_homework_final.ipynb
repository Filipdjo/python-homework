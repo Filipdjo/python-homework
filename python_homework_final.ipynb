{
 "cells": [
  {
   "cell_type": "code",
   "execution_count": null,
   "id": "bef0b496-73db-45a7-bc18-ecfec0bc5e67",
   "metadata": {},
   "outputs": [],
   "source": [
    "#This line of code is importing the numpy_fiancial library"
   ]
  },
  {
   "cell_type": "code",
   "execution_count": 1,
   "id": "79e13626-9b49-4581-8d72-93ca0da3b2cd",
   "metadata": {},
   "outputs": [],
   "source": [
    "import numpy_financial"
   ]
  },
  {
   "cell_type": "code",
   "execution_count": null,
   "id": "18e3d982-3857-4f92-b75d-05b95954fa4d",
   "metadata": {},
   "outputs": [],
   "source": [
    "#This is defining the path"
   ]
  },
  {
   "cell_type": "code",
   "execution_count": 2,
   "id": "351b16ea-6e64-4e91-9583-47823443cc4c",
   "metadata": {},
   "outputs": [],
   "source": [
    "path = \"budget_data.csv\""
   ]
  },
  {
   "cell_type": "code",
   "execution_count": null,
   "id": "990f64d9-2ff2-4343-ace3-529820694837",
   "metadata": {},
   "outputs": [],
   "source": [
    "#This is importing pandas from numpy financial"
   ]
  },
  {
   "cell_type": "code",
   "execution_count": 3,
   "id": "72b1a664-10db-4e9d-84c4-095dd12b0e3f",
   "metadata": {},
   "outputs": [],
   "source": [
    "import pandas as pd"
   ]
  },
  {
   "cell_type": "code",
   "execution_count": null,
   "id": "b18511fd-c98e-4f5e-a0da-3eb2ca377dd1",
   "metadata": {},
   "outputs": [],
   "source": [
    "#This line of code is reading the csv file in the path variable"
   ]
  },
  {
   "cell_type": "code",
   "execution_count": 4,
   "id": "174dfd01-84c7-46f1-b4dd-94e538a85fa3",
   "metadata": {},
   "outputs": [],
   "source": [
    "df = pd.read_csv(path)"
   ]
  },
  {
   "cell_type": "code",
   "execution_count": 5,
   "id": "88cb81d3-8c48-4dc1-af36-d8924010f16d",
   "metadata": {},
   "outputs": [],
   "source": [
    "#Total Number of Months"
   ]
  },
  {
   "cell_type": "code",
   "execution_count": 6,
   "id": "7a62448b-d1ed-4890-9d3b-5b0ce151bdc8",
   "metadata": {},
   "outputs": [],
   "source": [
    "total_months = len(df.index)"
   ]
  },
  {
   "cell_type": "code",
   "execution_count": 7,
   "id": "4303d583-0d46-4d14-9905-aa42d09f7cb7",
   "metadata": {},
   "outputs": [],
   "source": [
    "#Total profit/losses "
   ]
  },
  {
   "cell_type": "code",
   "execution_count": 8,
   "id": "0e23eca8-04b0-4b2c-b1cf-ab90ea63614a",
   "metadata": {},
   "outputs": [],
   "source": [
    "total_profits = df['Profit/Losses'].sum()"
   ]
  },
  {
   "cell_type": "code",
   "execution_count": 9,
   "id": "7ce3620d-9a5b-4d39-a096-7d851374393f",
   "metadata": {},
   "outputs": [],
   "source": [
    "#The average of the changes in profit/losses over the entire period"
   ]
  },
  {
   "cell_type": "code",
   "execution_count": 10,
   "id": "e3fd7501-6d86-4844-ba5e-6da296e473b4",
   "metadata": {},
   "outputs": [],
   "source": [
    "#The greatest increase in profits (date and amount) over the entire period"
   ]
  },
  {
   "cell_type": "code",
   "execution_count": 11,
   "id": "83a901b7-d121-4451-908d-741286087987",
   "metadata": {},
   "outputs": [],
   "source": [
    "#The greatest decrease in losses (date and amount) over the entire period"
   ]
  },
  {
   "cell_type": "code",
   "execution_count": 12,
   "id": "e1e0871c-7ced-4ed6-be25-e439712e5e13",
   "metadata": {},
   "outputs": [],
   "source": [
    "#Here we are defining all the variables needed in the finanical analysis\n",
    "total_avg = 0\n",
    "largest_increase = 0\n",
    "smallest_increase = 0\n",
    "month_largest = \"\"\n",
    "month_smallest = \"\"\n",
    "difference_list = []\n",
    "#This code below finds the average difference using a for loop and comparing each month\n",
    "for i in range(0,(total_months -1)):\n",
    "    first_value = df.iloc[i,1]\n",
    "    second_value = df.iloc[(i + 1), 1]\n",
    "    difference = second_value - first_value\n",
    "    total_avg += difference\n",
    "    difference_list.append(difference)\n",
    "    \n",
    "average_difference = total_avg / total_months\n",
    "#This code below uses a for loop to find the largest and smallet month over month increase in profit\n",
    "for difference in difference_list:   \n",
    "    if difference > largest_increase:\n",
    "        largest_increase = difference\n",
    "        \n",
    "    if difference < smallest_increase:\n",
    "        smallest_increase = difference\n",
    "        month_smallest = df.iloc[(i + 1),0]\n",
    "    \n",
    "#This code uses the difference list to find which months correspond with the largest and smallest profit increase    \n",
    "month_largest_index = difference_list.index(1926159)   \n",
    "month_largest = df.iloc[(month_largest_index + 1), 0]\n",
    "month_lowest_index = difference_list.index(-2196167)\n",
    "month_smallest = df.iloc[(month_lowest_index + 1), 0]\n"
   ]
  },
  {
   "cell_type": "code",
   "execution_count": null,
   "id": "27fbf26d-5143-48ba-8204-d7f32502980e",
   "metadata": {},
   "outputs": [],
   "source": [
    "#This code below turns the finanical analysis into a txt file"
   ]
  },
  {
   "cell_type": "code",
   "execution_count": 13,
   "id": "b5ad1c66-6004-4253-a1dd-b8d09efbad04",
   "metadata": {},
   "outputs": [],
   "source": [
    "with open('finishedcode.txt', 'w') as f:\n",
    "    f.write(f\"Financial Analysis\\n--------------------------------\\n Total Months: {total_months}\\n Total: {total_profits} \\n Average Change: {average_difference}\\n Greatest Increase in Profits: {month_largest} ({largest_increase})\\n Greatest Decrease in Profits: {month_smallest} ({smallest_increase})\")"
   ]
  },
  {
   "cell_type": "code",
   "execution_count": null,
   "id": "3e19f235-1dec-49ee-aac3-1f27c69ade70",
   "metadata": {},
   "outputs": [],
   "source": []
  },
  {
   "cell_type": "code",
   "execution_count": null,
   "id": "d6ff6060-fce7-4854-8297-90a1a83223b8",
   "metadata": {},
   "outputs": [],
   "source": []
  }
 ],
 "metadata": {
  "kernelspec": {
   "display_name": "Python 3 (ipykernel)",
   "language": "python",
   "name": "python3"
  },
  "language_info": {
   "codemirror_mode": {
    "name": "ipython",
    "version": 3
   },
   "file_extension": ".py",
   "mimetype": "text/x-python",
   "name": "python",
   "nbconvert_exporter": "python",
   "pygments_lexer": "ipython3",
   "version": "3.9.7"
  }
 },
 "nbformat": 4,
 "nbformat_minor": 5
}
