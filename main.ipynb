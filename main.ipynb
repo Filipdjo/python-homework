import numpy_financial
path = "/Users/filipdjordjevic/Desktop/budget_data.csv"
import pandas as pd
df = pd.read_csv(path)

#This_code_finds_total_months

total_months = len(df.index)

#This_code_finds_total_profits

total_profits = df['Profit/Losses'].sum()


#This_block_of_code_finds_change_in_profit_or_loss

total_avg = 0
largest_increase = 0
smallest_increase = 0
month_largest = ""
month_smallest = ""
difference_list = []

for i in range(0,(total_months -1)):
    first_value = df.iloc[i,1]
    second_value = df.iloc[(i + 1), 1]
    difference = second_value - first_value
    total_avg += difference
    difference_list.append(difference)
    
average_difference = total_avg / number_months

#This_code_finds_the_largest_profits_and_losses

for difference in difference_list:   
    if difference > largest_increase:
        largest_increase = difference
        month_largest = df.iloc[(i + 1),0]
    if difference < smallest_increase:
        smallest_increase = difference
        month_smallest = df.iloc[(i + 1),0]
  
#This_turns_results_into_a_txt_file

with open('finishedcode.txt', 'w') as f:
    f.write(f"Financial Analysis\n--------------------------------\n Total Months: {total_months}\n Total: {total_profits} \n Average Change: {average_difference}\n Greatest Increase in Profits: {month_largest} ({largest_increase})\n Greatest Decrease in Profits: {month_smallest} ({smallest_increase})")
    
